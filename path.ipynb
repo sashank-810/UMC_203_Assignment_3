{
  "cells": [
    {
      "cell_type": "code",
      "execution_count": 4,
      "metadata": {
        "colab": {
          "base_uri": "https://localhost:8080/"
        },
        "id": "NRpIexYuyFn3",
        "outputId": "3a15c5ae-deec-4d18-e258-a92bd1e20ce9"
      },
      "outputs": [
        {
          "name": "stdout",
          "output_type": "stream",
          "text": [
            "Final path rendered with theme 'ocean':\n",
            "🚢 🟦 🟦 🟦 🟦 🟦 🟦 🟦 🟦 🟦 🟦 🟦 🟦 🟦 🟦 🟦 🟦 🟦 🟦 🟦\n",
            "🌊 🟦 🟦 🟦 🌀 🟦 🟦 🟦 🟦 🟦 🟦 🟦 🟦 🟦 🟦 🌀 🟦 🟦 🟦 🟦\n",
            "🌊 🟦 🟦 🌀 🟦 🟦 🟦 🟦 🟦 🌀 🟦 🟦 🟦 🟦 🟦 🟦 🟦 🟦 🟦 🟦\n",
            "🌊 🟦 🟦 🟦 🟦 🟦 🟦 🟦 🟦 🟦 🟦 🌀 🟦 🌀 🟦 🟦 🟦 🟦 🟦 🌀\n",
            "🌊 🟦 🟦 🟦 🟦 🟦 🟦 🟦 🟦 🟦 🌀 🟦 🟦 🟦 🌀 🟦 🟦 🟦 🟦 🌀\n",
            "🌊 🌊 🟦 🟦 🟦 🟦 🟦 🌀 🟦 🟦 🌀 🟦 🌀 🟦 🟦 🌀 🟦 🟦 🟦 🟦\n",
            "🌀 🌊 🟦 🟦 🟦 🟦 🟦 🟦 🟦 🟦 🟦 🟦 🟦 🟦 🌀 🟦 🟦 🟦 🟦 🟦\n",
            "🟦 🌊 🌊 🟦 🟦 🟦 🟦 🟦 🟦 🟦 🟦 🟦 🟦 🟦 🌀 🟦 🟦 🟦 🟦 🟦\n",
            "🟦 🌀 🌊 🟦 🟦 🟦 🟦 🟦 🟦 🟦 🟦 🟦 🟦 🟦 🌀 🟦 🟦 🟦 🟦 🟦\n",
            "🟦 🟦 🌊 🌊 🌊 🟦 🟦 🟦 🟦 🟦 🟦 🟦 🌀 🟦 🟦 🟦 🟦 🌀 🌀 🟦\n",
            "🟦 🟦 🌀 🌀 🌊 🌀 🟦 🟦 🟦 🟦 🟦 🌀 🌀 🟦 🌀 🟦 🟦 🟦 🟦 🟦\n",
            "🌀 🟦 🟦 🟦 🌊 🟦 🟦 🟦 🌀 🟦 🟦 🟦 🌀 🟦 🟦 🟦 🟦 🟦 🟦 🟦\n",
            "🟦 🟦 🟦 🟦 🌊 🟦 🟦 🟦 🟦 🟦 🟦 🟦 🌀 🟦 🌀 🟦 🌀 🟦 🟦 🟦\n",
            "🟦 🟦 🟦 🟦 🌊 🌊 🌊 🌊 🌊 🌊 🌊 🌊 🌊 🌊 🌊 🌊 🌊 🌀 🟦 🟦\n",
            "🟦 🟦 🟦 🟦 🌀 🟦 🟦 🟦 🟦 🟦 🟦 🟦 🟦 🟦 🟦 🟦 🌊 🌊 🌊 🌊\n",
            "🟦 🌀 🟦 🟦 🟦 🟦 🟦 🟦 🟦 🟦 🟦 🟦 🟦 🌀 🌀 🟦 🟦 🟦 🟦 🌊\n",
            "🟦 🟦 🟦 🟦 🟦 🟦 🟦 🟦 🟦 🟦 🟦 🟦 🟦 🟦 🟦 🟦 🟦 🟦 🟦 🌊\n",
            "🟦 🟦 🟦 🟦 🌀 🟦 🟦 🟦 🟦 🟦 🟦 🟦 🟦 🟦 🟦 🟦 🟦 🟦 🟦 🌊\n",
            "🟦 🟦 🌀 🟦 🟦 🌀 🟦 🌀 🟦 🌀 🟦 🟦 🟦 🟦 🟦 🟦 🟦 🟦 🟦 🌊\n",
            "🟦 🟦 🟦 🟦 🟦 🟦 🌀 🟦 🟦 🟦 🟦 🟦 🟦 🟦 🟦 🟦 🟦 🟦 🟦 🏝\n"
          ]
        }
      ],
      "source": [
        "\"\"\"\n",
        "CODE TO CHECK IF PATH EXISTS FOR A GIVEN MAZE GENERATED USING SR.No.\n",
        "\"\"\"\n",
        "\n",
        "import numpy as np\n",
        "import pandas as pd\n",
        "import networkx as nx\n",
        "import json\n",
        "import random\n",
        "\n",
        "with open(\"themes.json\", \"r\", encoding=\"utf-8\") as f:\n",
        "    THEMES = json.load(f)\n",
        "\n",
        "theme = random.choice(list(THEMES.keys()))\n",
        "\n",
        "# === Maze settings ===\n",
        "maze_size = (20, 20)\n",
        "obstacle_prob = 0.1\n",
        "start = (0, 0)\n",
        "goal = (maze_size[0]-1, maze_size[1]-1)\n",
        "participant_id = 1        ########## SR.No.\n",
        "\n",
        "def render_maze(maze, path, start, goal, theme=theme):\n",
        "    # PRINTS THE MAZE AS OUTPUT\n",
        "    icons = THEMES.get(theme, THEMES[\"racing\"])\n",
        "    grid = np.full(maze_size, icons[\"empty\"])\n",
        "    grid[maze == 1] = icons[\"obstacle\"]\n",
        "    grid[start] = icons[\"start\"]\n",
        "    grid[goal] = icons[\"goal\"]\n",
        "    if path is not None:\n",
        "        for cell in path[1:-1]:\n",
        "            if grid[cell] not in (icons[\"goal\"], icons[\"obstacle\"], icons[\"trap\"], icons[\"boost\"]):\n",
        "                grid[cell] = icons[\"path\"]\n",
        "    df = pd.DataFrame(grid)\n",
        "    print(df.to_string(index=False, header=False))\n",
        "\n",
        "def generate_maze(seed, size=(20, 20), prob=0.2):\n",
        "    # GENERATES THE MAZE WITH OBSTACLES, probability of a cell being an obstacles = prob\n",
        "    np.random.seed(seed)\n",
        "    maze = np.zeros(size, dtype=int)\n",
        "    mask = np.ones(size, dtype=bool)\n",
        "    safe_cells = [\n",
        "        (0, 0), (0, 1), (1, 0),\n",
        "        (size[0]-1, size[1]-1), (size[0]-2, size[1]-1),\n",
        "        (size[0]-1, size[1]-2)\n",
        "    ]\n",
        "    for row, col in safe_cells:\n",
        "        mask[row, col] = False\n",
        "    maze[mask] = np.random.choice([0, 1], size=mask.sum(), p=[1 - prob, prob])\n",
        "    return maze\n",
        "\n",
        "def maze_to_graph(maze):\n",
        "    # CONVERTS GRID MAZE TO GRAPH TO CHECK FOR PATH USING BFS \n",
        "    rows, cols = maze.shape\n",
        "    G = nx.Graph()\n",
        "    for r in range(rows):\n",
        "        for c in range(cols):\n",
        "            if maze[r, c] == 0:\n",
        "                for dr, dc in [(-1, 0), (1, 0), (0, -1), (0, 1)]:\n",
        "                    nr, nc = r + dr, c + dc\n",
        "                    if 0 <= nr < rows and 0 <= nc < cols and maze[nr, nc] == 0:\n",
        "                        G.add_edge((r, c), (nr, nc))\n",
        "    return G\n",
        "\n",
        "\n",
        "# === Generate maze and graph ===\n",
        "maze = generate_maze(participant_id, size=maze_size, prob=obstacle_prob)\n",
        "G = maze_to_graph(maze)\n",
        "\n",
        "# === Pathfinding ===\n",
        "if start not in G or goal not in G:\n",
        "    print(\"No path exists!\")\n",
        "    render_maze(maze, path=None, start=start, goal=goal, theme=theme)\n",
        "else:\n",
        "    try:\n",
        "        path = nx.shortest_path(G, source=start, target=goal)\n",
        "        print(f\"Final path rendered with theme '{theme}':\")\n",
        "        render_maze(maze, path=path, start=start, goal=goal, theme=theme)\n",
        "    except nx.NetworkXNoPath:\n",
        "        print(\"No path exists!\")\n",
        "        render_maze(maze, path=None, start=start, goal=goal, theme=theme)\n"
      ]
    },
    {
      "cell_type": "code",
      "execution_count": null,
      "metadata": {
        "id": "xz878bcUyMi1"
      },
      "outputs": [],
      "source": []
    }
  ],
  "metadata": {
    "colab": {
      "provenance": []
    },
    "kernelspec": {
      "display_name": "RL",
      "language": "python",
      "name": "python3"
    },
    "language_info": {
      "codemirror_mode": {
        "name": "ipython",
        "version": 3
      },
      "file_extension": ".py",
      "mimetype": "text/x-python",
      "name": "python",
      "nbconvert_exporter": "python",
      "pygments_lexer": "ipython3",
      "version": "3.11.5"
    }
  },
  "nbformat": 4,
  "nbformat_minor": 0
}
